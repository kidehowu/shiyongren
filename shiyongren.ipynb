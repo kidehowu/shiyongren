{
 "cells": [
  {
   "metadata": {},
   "cell_type": "code",
   "source": [
    "import torch\n",
    "# import libraries\n",
    "from managers.shiyongren import Manager\n",
    "from models.shiyongren import D2NNmodel\n",
    "from helper import *"
   ],
   "id": "d58155a9a2d005fa",
   "outputs": [],
   "execution_count": null
  },
  {
   "metadata": {},
   "cell_type": "code",
   "source": [
    "n_layers = 4\n",
    "n_size_per_layer = 400\n",
    "distance_list = torch.tensor([29.5, 29.5, 29.5, 71]) * 1e-3\n",
    "pixel_pitch = 8e-6\n",
    "lambd_list = torch.tensor([491e-9, 660e-9])\n",
    "n_multiplexing = len(lambd_list)\n",
    "n_padding = 200\n",
    "lr = 1e-1\n",
    "batch_size = 12\n",
    "whether_load_model = False\n",
    "load_model_name = 'saved_model/shiyongren.pth'\n",
    "device = \"cuda\" if torch.cuda.is_available() else \"cpu\""
   ],
   "id": "d510106846a281d2",
   "outputs": [],
   "execution_count": null
  },
  {
   "metadata": {},
   "cell_type": "code",
   "source": [
    "load_dic = [\n",
    "    {'path':'input_field_lamda_12.mat', 'vari_name':'U_load'},\n",
    "    {'path':'output_filed_lamda_12.mat', 'vari_name':'Y_load'}\n",
    "]\n",
    "dataloaders = shiyong_loader(load_dic, batch_size)"
   ],
   "id": "ae97c1fd5ab64b5b",
   "outputs": [],
   "execution_count": null
  },
  {
   "metadata": {},
   "cell_type": "code",
   "source": "model = D2NNmodel(pixel_pitch, distance_list, n_padding, device, lambd_list, n_size_per_layer, 0)",
   "id": "96f0eb59c81fb332",
   "outputs": [],
   "execution_count": null
  },
  {
   "metadata": {},
   "cell_type": "code",
   "source": [
    "loss_fn = nn.MSELoss(reduction='sum')\n",
    "loss_fn = mse_loss()\n",
    "optimizer = optim.Adam(model.parameters(), lr=lr)\n",
    "manager = Manager(model, loss_fn, optimizer, n_multiplexing)\n",
    "manager.set_loaders(dataloaders, None)\n",
    "# tracking, fig = manager.lr_range_test(dataloaders[0], end_lr=1e8, num_iter=100)\n",
    "if whether_load_model:\n",
    "    manager.load_checkpoint(load_model_name, None)"
   ],
   "id": "28239f8e763cf3fd",
   "outputs": [],
   "execution_count": null
  },
  {
   "metadata": {},
   "cell_type": "code",
   "source": "manager.train(100)",
   "id": "43b9ddcf598a36bc",
   "outputs": [],
   "execution_count": null
  },
  {
   "metadata": {},
   "cell_type": "code",
   "source": "# manager.eff()",
   "id": "a15ea888ecf24d27",
   "outputs": [],
   "execution_count": null
  },
  {
   "metadata": {},
   "cell_type": "code",
   "source": "fig_l = manager.plot_losses()",
   "id": "4600bc063f9f35bf",
   "outputs": [],
   "execution_count": null
  },
  {
   "metadata": {},
   "cell_type": "code",
   "source": "fig_e = manager.plot_efficiency()",
   "id": "41a67421f6ba9d74",
   "outputs": [],
   "execution_count": null
  },
  {
   "metadata": {},
   "cell_type": "code",
   "source": "# manager.save_checkpoint('saved_model/shiyongren.pth')",
   "id": "149782cfebc36f87",
   "outputs": [],
   "execution_count": null
  },
  {
   "metadata": {},
   "cell_type": "code",
   "source": [
    "layers_name = ['modulation_1', 'modulation_2', 'modulation_3', 'modulation_4']\n",
    "fig_voltage = manager.visualize_voltage_mask(layers_name)"
   ],
   "id": "6f2067f6b548770f",
   "outputs": [],
   "execution_count": null
  },
  {
   "metadata": {},
   "cell_type": "code",
   "source": [
    "# A_hat = manager.get_transform_tensor(A)\n",
    "fig_1 = manager.figure_1(dataloaders)"
   ],
   "id": "eb65207ad51c4308",
   "outputs": [],
   "execution_count": null
  },
  {
   "metadata": {},
   "cell_type": "code",
   "source": "# To be continued ...",
   "id": "f26ce5faeb6433f3",
   "outputs": [],
   "execution_count": null
  }
 ],
 "metadata": {
  "kernelspec": {
   "display_name": "Python 3",
   "language": "python",
   "name": "python3"
  },
  "language_info": {
   "codemirror_mode": {
    "name": "ipython",
    "version": 2
   },
   "file_extension": ".py",
   "mimetype": "text/x-python",
   "name": "python",
   "nbconvert_exporter": "python",
   "pygments_lexer": "ipython2",
   "version": "2.7.6"
  }
 },
 "nbformat": 4,
 "nbformat_minor": 5
}
