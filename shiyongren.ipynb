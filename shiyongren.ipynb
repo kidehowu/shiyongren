{
 "cells": [
  {
   "metadata": {
    "ExecuteTime": {
     "end_time": "2024-06-28T01:23:33.679640Z",
     "start_time": "2024-06-28T01:23:31.401842Z"
    }
   },
   "cell_type": "code",
   "source": [
    "import torch\n",
    "# import libraries\n",
    "from managers.shiyongren import Manager\n",
    "from models.shiyongren import D2NNmodel\n",
    "from helper import *"
   ],
   "id": "d58155a9a2d005fa",
   "outputs": [],
   "execution_count": 2
  },
  {
   "metadata": {},
   "cell_type": "code",
   "source": [
    "n_layers = 4\n",
    "n_size_per_layer = 400\n",
    "distance_list = torch.tensor([29.5, 29.5, 29.5, 71]) * 1e-3\n",
    "pixel_pitch = 8e-6\n",
    "lambd_list = torch.tensor([491e-9, 660e-9])\n",
    "n_padding = 200\n",
    "lr = 1e-3\n",
    "batch_size = 12\n",
    "whether_load_model = False\n",
    "load_model_name = 'saved_model/shiyongren.pth'\n",
    "device = \"cuda\" if torch.cuda.is_available() else \"cpu\""
   ],
   "id": "d510106846a281d2",
   "outputs": [],
   "execution_count": null
  },
  {
   "metadata": {
    "ExecuteTime": {
     "end_time": "2024-06-28T01:49:19.803812Z",
     "start_time": "2024-06-28T01:49:19.600593Z"
    }
   },
   "cell_type": "code",
   "source": [
    "load_dic = [\n",
    "    {'path':'input_field_lamda_12.mat', 'vari_name':'U_load'},\n",
    "    {'path':'output_filed_lamda_12.mat', 'vari_name':'Y_load'}\n",
    "]\n",
    "dataloaders = shiyong_loader(load_dic, batch_size)"
   ],
   "id": "ae97c1fd5ab64b5b",
   "outputs": [
    {
     "name": "stdout",
     "output_type": "stream",
     "text": [
      "dict_keys(['__header__', '__version__', '__globals__', 'U_load'])\n"
     ]
    }
   ],
   "execution_count": 7
  },
  {
   "metadata": {},
   "cell_type": "code",
   "source": [
    "model = D2NNmodel(pixel_pitch, distance_list, n_padding, device, lambd_list, n_size_per_layer, 0)\n",
    "loss_fn = mse_loss()\n",
    "optimizer = optim.Adam(model.parameters(), lr=lr)\n",
    "manager = Manager(model, loss_fn, optimizer)\n",
    "manager.set_loaders(dataloaders, dataloaders)\n",
    "# tracking, fig = manager.lr_range_test(train_dataloader, end_lr=1e-1, num_iter=100)\n",
    "if whether_load_model:\n",
    "    manager.load_checkpoint(load_model_name, None)"
   ],
   "id": "28239f8e763cf3fd",
   "outputs": [],
   "execution_count": null
  },
  {
   "metadata": {},
   "cell_type": "code",
   "source": "# manager.train(6)",
   "id": "43b9ddcf598a36bc",
   "outputs": [],
   "execution_count": null
  },
  {
   "metadata": {},
   "cell_type": "code",
   "source": "fig = manager.plot_losses()",
   "id": "4600bc063f9f35bf",
   "outputs": [],
   "execution_count": null
  },
  {
   "metadata": {},
   "cell_type": "code",
   "source": "# manager.save_checkpoint('saved_model/07_22_2024.pth')",
   "id": "149782cfebc36f87",
   "outputs": [],
   "execution_count": null
  },
  {
   "metadata": {},
   "cell_type": "code",
   "source": [
    "layers_name = ['modulation_1', 'modulation_2', 'modulation_3']\n",
    "fig_mask_height = manager.visualize_height_mask(layers_name, hmin, hmax, bit_depth)"
   ],
   "id": "6f2067f6b548770f",
   "outputs": [],
   "execution_count": null
  },
  {
   "metadata": {},
   "cell_type": "code",
   "source": [
    "# A_hat = manager.get_transform_tensor(A)\n",
    "fig_1, mean_error = manager.figure_1(A)\n",
    "print(mean_error)"
   ],
   "id": "eb65207ad51c4308",
   "outputs": [],
   "execution_count": null
  },
  {
   "metadata": {},
   "cell_type": "code",
   "source": "fig_2 = manager.figure_2()",
   "id": "db6df26fc24baff",
   "outputs": [],
   "execution_count": null
  },
  {
   "metadata": {},
   "cell_type": "code",
   "source": "# To be continued ...",
   "id": "f26ce5faeb6433f3",
   "outputs": [],
   "execution_count": null
  },
  {
   "metadata": {},
   "cell_type": "code",
   "outputs": [],
   "execution_count": null,
   "source": "print()",
   "id": "f1ce099ef0a72d28"
  }
 ],
 "metadata": {
  "kernelspec": {
   "display_name": "Python 3",
   "language": "python",
   "name": "python3"
  },
  "language_info": {
   "codemirror_mode": {
    "name": "ipython",
    "version": 2
   },
   "file_extension": ".py",
   "mimetype": "text/x-python",
   "name": "python",
   "nbconvert_exporter": "python",
   "pygments_lexer": "ipython2",
   "version": "2.7.6"
  }
 },
 "nbformat": 4,
 "nbformat_minor": 5
}
